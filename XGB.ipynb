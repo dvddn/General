{
 "cells": [
  {
   "cell_type": "code",
   "execution_count": 1,
   "metadata": {},
   "outputs": [
    {
     "data": {
      "text/plain": [
       "sys.version_info(major=3, minor=6, micro=4, releaselevel='final', serial=0)"
      ]
     },
     "execution_count": 1,
     "metadata": {},
     "output_type": "execute_result"
    }
   ],
   "source": [
    "import numpy as np\n",
    "import pandas as pd\n",
    "pd.set_option('display.max_rows', 500)\n",
    "pd.set_option('display.max_columns', 100)\n",
    "\n",
    "from itertools import product\n",
    "from sklearn.preprocessing import LabelEncoder\n",
    "\n",
    "import seaborn as sns\n",
    "import matplotlib.pyplot as plt\n",
    "%matplotlib inline\n",
    "\n",
    "from xgboost import XGBRegressor\n",
    "from xgboost import plot_importance\n",
    "\n",
    "def plot_features(booster, figsize):    \n",
    "    fig, ax = plt.subplots(1,1,figsize=figsize)\n",
    "    return plot_importance(booster=booster, ax=ax)\n",
    "\n",
    "import time\n",
    "import sys\n",
    "import gc\n",
    "import pickle\n",
    "sys.version_info"
   ]
  },
  {
   "cell_type": "code",
   "execution_count": 2,
   "metadata": {},
   "outputs": [],
   "source": [
    "data = pd.read_pickle('data.pkl')"
   ]
  },
  {
   "cell_type": "code",
   "execution_count": 4,
   "metadata": {},
   "outputs": [],
   "source": [
    "data = data[[\n",
    "    'date_block_num',\n",
    "    'shop_id',\n",
    "    'item_id',\n",
    "    'item_cnt_month',\n",
    "    'city_code',\n",
    "    'item_category_id',\n",
    "    'type_code',\n",
    "    'subtype_code',\n",
    "    'item_cnt_month_lag_1',\n",
    "    'item_cnt_month_lag_2',\n",
    "    'item_cnt_month_lag_3',\n",
    "    'item_cnt_month_lag_6',\n",
    "    'item_cnt_month_lag_12',\n",
    "    'date_avg_item_cnt_lag_1',\n",
    "    'date_item_avg_item_cnt_lag_1',\n",
    "    'date_item_avg_item_cnt_lag_2',\n",
    "    'date_item_avg_item_cnt_lag_3',\n",
    "    'date_item_avg_item_cnt_lag_6',\n",
    "    'date_item_avg_item_cnt_lag_12',\n",
    "    #'date_shop_avg_item_cnt_lag_1',\n",
    "    #'date_shop_avg_item_cnt_lag_2',\n",
    "    #'date_shop_avg_item_cnt_lag_3',\n",
    "    #'date_shop_avg_item_cnt_lag_6',\n",
    "    #'date_shop_avg_item_cnt_lag_12',\n",
    "    'date_cat_avg_item_cnt_lag_1',\n",
    "    'date_shop_cat_avg_item_cnt_lag_1',\n",
    "    #'date_shop_type_avg_item_cnt_lag_1',\n",
    "    #'date_shop_subtype_avg_item_cnt_lag_1',\n",
    "    'date_city_avg_item_cnt_lag_1',\n",
    "    'date_item_city_avg_item_cnt_lag_1',\n",
    "    #'date_type_avg_item_cnt_lag_1',\n",
    "    #'date_subtype_avg_item_cnt_lag_1',\n",
    "    'delta_price_lag',\n",
    "    'month',\n",
    "    'days',\n",
    "    'item_shop_last_sale',\n",
    "    'item_last_sale',\n",
    "    'item_shop_first_sale',\n",
    "    'item_first_sale',\n",
    "]]"
   ]
  },
  {
   "cell_type": "code",
   "execution_count": 5,
   "metadata": {},
   "outputs": [],
   "source": [
    "X_train = data[data.date_block_num < 33].drop(['item_cnt_month'], axis=1)\n",
    "Y_train = data[data.date_block_num < 33]['item_cnt_month']\n",
    "X_valid = data[data.date_block_num == 33].drop(['item_cnt_month'], axis=1)\n",
    "Y_valid = data[data.date_block_num == 33]['item_cnt_month']\n",
    "X_test = data[data.date_block_num == 34].drop(['item_cnt_month'], axis=1)"
   ]
  },
  {
   "cell_type": "code",
   "execution_count": 6,
   "metadata": {},
   "outputs": [],
   "source": [
    "del data\n",
    "gc.collect();"
   ]
  },
  {
   "cell_type": "code",
   "execution_count": 7,
   "metadata": {},
   "outputs": [
    {
     "name": "stdout",
     "output_type": "stream",
     "text": [
      "[21:11:24] WARNING: C:/Jenkins/workspace/xgboost-win64_release_0.90/src/objective/regression_obj.cu:152: reg:linear is now deprecated in favor of reg:squarederror.\n",
      "[21:11:24] WARNING: C:\\Jenkins\\workspace\\xgboost-win64_release_0.90\\src\\learner.cc:686: Tree method is automatically selected to be 'approx' for faster speed. To use old behavior (exact greedy algorithm on single machine), set tree_method to 'exact'.\n",
      "[0]\tvalidation_0-rmse:1.12516\tvalidation_1-rmse:1.11942\n",
      "Multiple eval metrics have been passed: 'validation_1-rmse' will be used for early stopping.\n",
      "\n",
      "Will train until validation_1-rmse hasn't improved in 10 rounds.\n",
      "[1]\tvalidation_0-rmse:1.084\tvalidation_1-rmse:1.08133\n",
      "[2]\tvalidation_0-rmse:1.05135\tvalidation_1-rmse:1.05148\n",
      "[3]\tvalidation_0-rmse:1.00941\tvalidation_1-rmse:1.02557\n",
      "[4]\tvalidation_0-rmse:0.983357\tvalidation_1-rmse:1.00641\n",
      "[5]\tvalidation_0-rmse:0.961754\tvalidation_1-rmse:0.988806\n",
      "[6]\tvalidation_0-rmse:0.943354\tvalidation_1-rmse:0.973718\n",
      "[7]\tvalidation_0-rmse:0.92552\tvalidation_1-rmse:0.961755\n",
      "[8]\tvalidation_0-rmse:0.910485\tvalidation_1-rmse:0.951883\n",
      "[9]\tvalidation_0-rmse:0.898736\tvalidation_1-rmse:0.943426\n",
      "[10]\tvalidation_0-rmse:0.888372\tvalidation_1-rmse:0.9371\n",
      "[11]\tvalidation_0-rmse:0.880411\tvalidation_1-rmse:0.931635\n",
      "[12]\tvalidation_0-rmse:0.872993\tvalidation_1-rmse:0.926919\n",
      "[13]\tvalidation_0-rmse:0.866833\tvalidation_1-rmse:0.923415\n",
      "[14]\tvalidation_0-rmse:0.861391\tvalidation_1-rmse:0.920104\n",
      "[15]\tvalidation_0-rmse:0.857262\tvalidation_1-rmse:0.918785\n",
      "[16]\tvalidation_0-rmse:0.853634\tvalidation_1-rmse:0.917433\n",
      "[17]\tvalidation_0-rmse:0.850006\tvalidation_1-rmse:0.915138\n",
      "[18]\tvalidation_0-rmse:0.846819\tvalidation_1-rmse:0.913841\n",
      "[19]\tvalidation_0-rmse:0.844197\tvalidation_1-rmse:0.913305\n",
      "[20]\tvalidation_0-rmse:0.841631\tvalidation_1-rmse:0.912452\n",
      "[21]\tvalidation_0-rmse:0.839813\tvalidation_1-rmse:0.911864\n",
      "[22]\tvalidation_0-rmse:0.837681\tvalidation_1-rmse:0.911686\n",
      "[23]\tvalidation_0-rmse:0.835958\tvalidation_1-rmse:0.911057\n",
      "[24]\tvalidation_0-rmse:0.834034\tvalidation_1-rmse:0.910717\n",
      "[25]\tvalidation_0-rmse:0.832637\tvalidation_1-rmse:0.910379\n",
      "[26]\tvalidation_0-rmse:0.831305\tvalidation_1-rmse:0.910096\n",
      "[27]\tvalidation_0-rmse:0.830141\tvalidation_1-rmse:0.910644\n",
      "[28]\tvalidation_0-rmse:0.828725\tvalidation_1-rmse:0.910746\n",
      "[29]\tvalidation_0-rmse:0.827232\tvalidation_1-rmse:0.910392\n",
      "[30]\tvalidation_0-rmse:0.826464\tvalidation_1-rmse:0.910361\n",
      "[31]\tvalidation_0-rmse:0.825439\tvalidation_1-rmse:0.910715\n",
      "[32]\tvalidation_0-rmse:0.824488\tvalidation_1-rmse:0.910529\n",
      "[33]\tvalidation_0-rmse:0.823516\tvalidation_1-rmse:0.910601\n",
      "[34]\tvalidation_0-rmse:0.8228\tvalidation_1-rmse:0.910427\n",
      "[35]\tvalidation_0-rmse:0.821894\tvalidation_1-rmse:0.910877\n",
      "[36]\tvalidation_0-rmse:0.821104\tvalidation_1-rmse:0.911222\n",
      "Stopping. Best iteration:\n",
      "[26]\tvalidation_0-rmse:0.831305\tvalidation_1-rmse:0.910096\n",
      "\n"
     ]
    },
    {
     "data": {
      "text/plain": [
       "2129.933000087738"
      ]
     },
     "execution_count": 7,
     "metadata": {},
     "output_type": "execute_result"
    }
   ],
   "source": [
    "ts = time.time()\n",
    "\n",
    "model = XGBRegressor(\n",
    "    max_depth=8,\n",
    "    n_estimators=1000,\n",
    "    min_child_weight=300, \n",
    "    colsample_bytree=0.8, \n",
    "    subsample=0.8, \n",
    "    eta=0.3,    \n",
    "    seed=42)\n",
    "\n",
    "model.fit(\n",
    "    X_train, \n",
    "    Y_train, \n",
    "    eval_metric=\"rmse\", \n",
    "    eval_set=[(X_train, Y_train), (X_valid, Y_valid)], \n",
    "    verbose=True, \n",
    "    early_stopping_rounds = 10)\n",
    "\n",
    "time.time() - ts"
   ]
  }
 ],
 "metadata": {
  "kernelspec": {
   "display_name": "Python 3",
   "language": "python",
   "name": "python3"
  },
  "language_info": {
   "codemirror_mode": {
    "name": "ipython",
    "version": 3
   },
   "file_extension": ".py",
   "mimetype": "text/x-python",
   "name": "python",
   "nbconvert_exporter": "python",
   "pygments_lexer": "ipython3",
   "version": "3.6.4"
  }
 },
 "nbformat": 4,
 "nbformat_minor": 2
}
