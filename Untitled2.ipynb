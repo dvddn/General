{
 "cells": [
  {
   "cell_type": "code",
   "execution_count": 194,
   "metadata": {},
   "outputs": [],
   "source": [
    "from scipy.stats import norm, uniform\n",
    "import numpy as np\n",
    "from sklearn import metrics\n",
    "from sklearn.calibration import calibration_curve\n",
    "import matplotlib.pyplot as plt\n",
    "from sklearn.linear_model import LogisticRegression\n",
    "import pandas as pd"
   ]
  },
  {
   "cell_type": "code",
   "execution_count": 152,
   "metadata": {},
   "outputs": [],
   "source": [
    "c = 50 # Limit income\n",
    "j1 = uniform(0,80).rvs(1000) # Job related feature 1\n",
    "j2 = uniform(0,80).rvs(1000) # Job related feature 2\n",
    "eps = norm(0,50).rvs(1000) # Lottery\n",
    "y = (0.3*j1+0.7*j2+eps > c).astype(int) # Target variable: Income>c?\n",
    "a = norm.sf(c,0,50) \n",
    "b = norm.sf(c-80,0,50)"
   ]
  },
  {
   "cell_type": "code",
   "execution_count": 153,
   "metadata": {
    "scrolled": true
   },
   "outputs": [
    {
     "name": "stdout",
     "output_type": "stream",
     "text": [
      "Lower limit is: 0.15865525393145707\n",
      "Upper limit is: 0.7257468822499265\n"
     ]
    }
   ],
   "source": [
    "print('Lower limit is: {}'.format(a))\n",
    "print('Upper limit is: {}'.format(b))"
   ]
  },
  {
   "cell_type": "code",
   "execution_count": 155,
   "metadata": {},
   "outputs": [],
   "source": [
    "X = pd.DataFrame(data={'J1':j1,'J2':j2} )"
   ]
  },
  {
   "cell_type": "code",
   "execution_count": 156,
   "metadata": {},
   "outputs": [],
   "source": [
    "clf = LogisticRegression().fit(X, y)\n",
    "metrics.roc_auc_score(y, [x[1] for x in clf.predict_proba(X)])"
   ]
  },
  {
   "cell_type": "code",
   "execution_count": 161,
   "metadata": {},
   "outputs": [],
   "source": [
    "y_pred = [x[1] for x in clf.predict_proba(X)]"
   ]
  },
  {
   "cell_type": "code",
   "execution_count": 174,
   "metadata": {},
   "outputs": [
    {
     "data": {
      "text/plain": [
       "(array([ 63., 137., 121., 128., 114., 117., 110.,  98.,  80.,  32.]),\n",
       " array([0.17861303, 0.23199958, 0.28538613, 0.33877268, 0.39215922,\n",
       "        0.44554577, 0.49893232, 0.55231886, 0.60570541, 0.65909196,\n",
       "        0.7124785 ]),\n",
       " <a list of 10 Patch objects>)"
      ]
     },
     "execution_count": 174,
     "metadata": {},
     "output_type": "execute_result"
    },
    {
     "data": {
      "image/png": "[encoded data removed]",
      "text/plain": [
       "<Figure size 432x288 with 1 Axes>"
      ]
     },
     "metadata": {},
     "output_type": "display_data"
    }
   ],
   "source": [
    "plt.hist(y_pred)"
   ]
  },
  {
   "cell_type": "code",
   "execution_count": 179,
   "metadata": {},
   "outputs": [],
   "source": [
    "translated_preds = [x*(b-a)+a for x in y_pred]"
   ]
  },
  {
   "cell_type": "code",
   "execution_count": 176,
   "metadata": {
    "scrolled": true
   },
   "outputs": [
    {
     "data": {
      "text/plain": [
       "(array([ 63., 137., 121., 128., 114., 117., 110.,  98.,  80.,  32.]),\n",
       " array([0.25994521, 0.29022027, 0.32049534, 0.3507704 , 0.38104547,\n",
       "        0.41132053, 0.44159559, 0.47187066, 0.50214572, 0.53242079,\n",
       "        0.56269585]),\n",
       " <a list of 10 Patch objects>)"
      ]
     },
     "execution_count": 176,
     "metadata": {},
     "output_type": "execute_result"
    },
    {
     "data": {
      "image/png": "[encoded data removed]",
      "text/plain": [
       "<Figure size 432x288 with 1 Axes>"
      ]
     },
     "metadata": {},
     "output_type": "display_data"
    }
   ],
   "source": [
    "plt.hist(translated_preds)"
   ]
  }
 ],
 "metadata": {
  "kernelspec": {
   "display_name": "Python 3",
   "language": "python",
   "name": "python3"
  },
  "language_info": {
   "codemirror_mode": {
    "name": "ipython",
    "version": 3
   },
   "file_extension": ".py",
   "mimetype": "text/x-python",
   "name": "python",
   "nbconvert_exporter": "python",
   "pygments_lexer": "ipython3",
   "version": "3.6.4"
  }
 },
 "nbformat": 4,
 "nbformat_minor": 2
}
